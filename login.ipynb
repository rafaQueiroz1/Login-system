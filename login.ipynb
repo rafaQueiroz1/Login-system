{
 "cells": [
  {
   "cell_type": "code",
   "execution_count": 14,
   "id": "dcefbb61-3225-46f4-b352-0c50cb574822",
   "metadata": {},
   "outputs": [
    {
     "name": "stdin",
     "output_type": "stream",
     "text": [
      "Are you a new user? (y/n)  y\n",
      "insert your name:  john\n",
      "insert your password:  rafa\n",
      "insert your message:  oiii\n",
      "insert your name:  john\n",
      "insert your password:  rafa\n"
     ]
    },
    {
     "name": "stdout",
     "output_type": "stream",
     "text": [
      "oiii\n"
     ]
    }
   ],
   "source": [
    "def begin():\n",
    "    isnewuser = input(\"Are you a new user? (y/n) \")\n",
    "    if isnewuser == \"n\":\n",
    "      counttest(0)\n",
    "    else:                                      ##insere os dados do novo usuário antes de iniciar\n",
    "      name = input(\"insert your name: \")\n",
    "      password = input(\"insert your password: \")\n",
    "      message = input(\"insert your message: \")\n",
    "      db.setdefault(f\"name{name}\",name)\n",
    "      db.setdefault(f\"password{name}\",password)\n",
    "      db.setdefault(f\"message{name}\",message)\n",
    "      counttest(0)\n",
    "\n",
    "\n",
    "def counttest(count):  ## fiz essa parte para poder contar a quantidade de vezes que foi tentado inserir o nome\n",
    "        name = input(\"insert your name: \")\n",
    "        message(name,count)\n",
    "\n",
    "db = {                      ##base de dados dos usuários\n",
    "    \"namerafael\":\"rafael\",\n",
    "    \"passwordrafael\":\"senha\",\n",
    "    \"messagerafael\":\"Hello rafael!\"\n",
    "}\n",
    "\n",
    "\n",
    "def message(arg,count):  ##arg, nome. count, quantidade de tentativas\n",
    "    try:\n",
    "      if db[f\"name{arg}\"] == arg:      ##checa se tem o nome inserido na base de dados\n",
    "       password = input(\"insert your password: \")\n",
    "\n",
    "       if db[f\"password{arg}\"] == password:  ##checa se a senha é igual a senha dentro da base de dados nesse nome\n",
    "        print(db[f\"message{arg}\"])\n",
    "\n",
    "       else:\n",
    "        print(\"wrong password\")\n",
    "\n",
    "    except KeyError:       ##se não tiver o nome o programa tenta novamente 5 vezes\n",
    "        if count < 5:\n",
    "            print(\"No existing name, try another\")\n",
    "            counttest(count + 1)  ##retorna pro teste mas agora com o count aumentado 1\n",
    "        else:\n",
    "            print(\"Too many attempts\")\n",
    "            return\n",
    "\n",
    "begin()"
   ]
  },
  {
   "cell_type": "code",
   "execution_count": null,
   "id": "3ac8acb1-f977-45fd-8063-2e4c9617b451",
   "metadata": {},
   "outputs": [],
   "source": []
  }
 ],
 "metadata": {
  "kernelspec": {
   "display_name": "Python 3 (ipykernel)",
   "language": "python",
   "name": "python3"
  },
  "language_info": {
   "codemirror_mode": {
    "name": "ipython",
    "version": 3
   },
   "file_extension": ".py",
   "mimetype": "text/x-python",
   "name": "python",
   "nbconvert_exporter": "python",
   "pygments_lexer": "ipython3",
   "version": "3.12.4"
  }
 },
 "nbformat": 4,
 "nbformat_minor": 5
}
